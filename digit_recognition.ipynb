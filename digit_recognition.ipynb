{
 "cells": [
  {
   "cell_type": "markdown",
   "id": "f35bec3d",
   "metadata": {},
   "source": [
    "# import libraries"
   ]
  },
  {
   "cell_type": "code",
   "execution_count": 1,
   "id": "e37811fe",
   "metadata": {},
   "outputs": [],
   "source": [
    "import numpy as np\n",
    "import matplotlib.pyplot as plt\n",
    "import sys"
   ]
  },
  {
   "cell_type": "markdown",
   "id": "526d8969",
   "metadata": {},
   "source": [
    "# read data sets"
   ]
  },
  {
   "cell_type": "code",
   "execution_count": 2,
   "id": "e84feb7d",
   "metadata": {},
   "outputs": [],
   "source": [
    "directory = './MNIST_Dataset/'"
   ]
  },
  {
   "cell_type": "markdown",
   "id": "0bf4f328",
   "metadata": {},
   "source": [
    "\n",
    "## Train set"
   ]
  },
  {
   "cell_type": "code",
   "execution_count": 3,
   "id": "26cca86c",
   "metadata": {},
   "outputs": [],
   "source": [
    "train_images_file = open(directory+'train-images.idx3-ubyte', 'rb')\n",
    "train_images_file.seek(4)\n",
    "num_of_train_images = int.from_bytes(train_images_file.read(4), 'big')\n",
    "train_images_file.seek(16)\n",
    "\n",
    "train_labels_file = open(directory+'train-labels.idx1-ubyte', 'rb')\n",
    "train_labels_file.seek(8)\n",
    "\n",
    "train_set = []\n",
    "for n in range(num_of_train_images):\n",
    "    image = np.zeros((784, 1))\n",
    "    for i in range(784):\n",
    "        image[i, 0] = int.from_bytes(train_images_file.read(1), 'big') / 256\n",
    "    \n",
    "    label_value = int.from_bytes(train_labels_file.read(1), 'big')\n",
    "    label = np.zeros((10, 1))\n",
    "    label[label_value, 0] = 1\n",
    "    \n",
    "    train_set.append((image, label))"
   ]
  },
  {
   "cell_type": "markdown",
   "id": "4a0c56cd",
   "metadata": {},
   "source": [
    "## Test set"
   ]
  },
  {
   "cell_type": "code",
   "execution_count": 4,
   "id": "10632287",
   "metadata": {},
   "outputs": [],
   "source": [
    "# Reading The Test Set\n",
    "test_images_file = open(directory+'t10k-images.idx3-ubyte', 'rb')\n",
    "test_images_file.seek(4)\n",
    "\n",
    "test_labels_file = open(directory+'t10k-labels.idx1-ubyte', 'rb')\n",
    "test_labels_file.seek(8)\n",
    "\n",
    "num_of_test_images = int.from_bytes(test_images_file.read(4), 'big')\n",
    "test_images_file.seek(16)\n",
    "\n",
    "test_set = []\n",
    "for n in range(num_of_test_images):\n",
    "    image = np.zeros((784, 1))\n",
    "    for i in range(784):\n",
    "        image[i] = int.from_bytes(test_images_file.read(1), 'big') / 256\n",
    "    \n",
    "    label_value = int.from_bytes(test_labels_file.read(1), 'big')\n",
    "    label = np.zeros((10, 1))\n",
    "    label[label_value, 0] = 1\n",
    "    \n",
    "    test_set.append((image, label))"
   ]
  },
  {
   "cell_type": "markdown",
   "id": "77c7a33f",
   "metadata": {},
   "source": [
    "## Plot a sample "
   ]
  },
  {
   "cell_type": "code",
   "execution_count": 5,
   "id": "7532fd8d",
   "metadata": {},
   "outputs": [],
   "source": [
    "def show_image(img):\n",
    "    image = img.reshape((28, 28))\n",
    "    plt.imshow(image, 'gray')"
   ]
  },
  {
   "cell_type": "code",
   "execution_count": 6,
   "id": "3ea5d3e8",
   "metadata": {
    "scrolled": true
   },
   "outputs": [
    {
     "data": {
      "image/png": "[encoded data removed]",
      "text/plain": [
       "<Figure size 432x288 with 1 Axes>"
      ]
     },
     "metadata": {
      "needs_background": "light"
     },
     "output_type": "display_data"
    },
    {
     "name": "stdout",
     "output_type": "stream",
     "text": [
      "lable =  [[0.]\n",
      " [0.]\n",
      " [0.]\n",
      " [0.]\n",
      " [0.]\n",
      " [1.]\n",
      " [0.]\n",
      " [0.]\n",
      " [0.]\n",
      " [0.]]\n"
     ]
    }
   ],
   "source": [
    "show_image(train_set[0][0])\n",
    "plt.show()\n",
    "print(\"lable = \",train_set[0][1])\n"
   ]
  },
  {
   "cell_type": "markdown",
   "id": "d26f3fca",
   "metadata": {},
   "source": [
    "# basic functions"
   ]
  },
  {
   "cell_type": "code",
   "execution_count": 7,
   "id": "9ed98f07",
   "metadata": {},
   "outputs": [],
   "source": [
    "def sigmoid(z):\n",
    "    return 1 / (1 + np.exp(-z))"
   ]
  },
  {
   "cell_type": "code",
   "execution_count": 8,
   "id": "4a320578",
   "metadata": {},
   "outputs": [],
   "source": [
    "def derivativeSigmoid(z):\n",
    "    return  sigmoid(z) * (1 - sigmoid(z))"
   ]
  },
  {
   "cell_type": "code",
   "execution_count": 9,
   "id": "67331579",
   "metadata": {},
   "outputs": [],
   "source": [
    "def make_sequential_network (layers):\n",
    "    weights = list()\n",
    "    biases = list()\n",
    "    for i in range(len(layers)-1):\n",
    "        weights.append(np.random.normal(0, .5, size=(layers[i+1], layers[i])))\n",
    "        biases.append(np.random.normal(0, .5, size=(layers[i+1],1)))\n",
    "    return weights,biases"
   ]
  },
  {
   "cell_type": "code",
   "execution_count": 10,
   "id": "61532475",
   "metadata": {},
   "outputs": [],
   "source": [
    "def allocate_gradient_values (layers):\n",
    "    g_weights = list()\n",
    "    g_biases = list()\n",
    "    for i in range(len(layers)-1):\n",
    "        g_weights.append(np.zeros((layers[i+1], layers[i])))\n",
    "        g_biases.append(np.zeros((layers[i+1],1)))\n",
    "    return g_weights,g_biases\n",
    "    "
   ]
  },
  {
   "cell_type": "code",
   "execution_count": 11,
   "id": "dd14c735",
   "metadata": {},
   "outputs": [],
   "source": [
    "def forward_propagation(flatten_input , current_weights,current_biases):\n",
    "    network_output_layers = list()\n",
    "    network_output_layers.append(flatten_input)\n",
    "    z_layers= list()\n",
    "    for (w,b) in zip(current_weights,current_biases):\n",
    "        z = np.dot(w,network_output_layers[-1])+b\n",
    "        z_layers.append(z)\n",
    "        network_output_layers.append(sigmoid(z))\n",
    "    return network_output_layers , z_layers"
   ]
  },
  {
   "cell_type": "code",
   "execution_count": 12,
   "id": "5a46102f",
   "metadata": {},
   "outputs": [],
   "source": [
    "def backpropagation (image,weights,biases,gradients):\n",
    "    \n",
    "    grad_weights , grad_biases = gradients\n",
    "    \n",
    "    grad_a0 = np.zeros((784, 1))\n",
    "    grad_a1 = np.zeros((16, 1))\n",
    "    grad_a2 = np.zeros((16, 1))\n",
    "    \n",
    "    image_pixels , image_lable = image[0] , image[1]\n",
    "    \n",
    "    a_layers , z_layers = forward_propagation(image_pixels, weights, biases)\n",
    "    \n",
    "    loss_i = pow((a_layers[3]-image_lable),2)\n",
    "\n",
    "                \n",
    "    #### layer 3\n",
    "    for j in range(10):\n",
    "        b = 2 * (a_layers[3][j] - image_lable[j]) * derivativeSigmoid(z_layers[2][j])\n",
    "        grad_biases[2][j] +=b\n",
    "        for k in range(16):\n",
    "            grad_weights[2][j][k] +=b*a_layers[2][k]\n",
    "                \n",
    "    for k in range(16):\n",
    "        for j in range(10):\n",
    "            grad_a2[k] += 2 *(a_layers[3][j]-image_lable[j]) * derivativeSigmoid(z_layers[2][j]) *weights[2][j][k]\n",
    "            \n",
    "\n",
    "    ########layer 2\n",
    "    for j in range(16):\n",
    "        b = grad_a2[j] * derivativeSigmoid(z_layers[1][j])\n",
    "        grad_biases[1][j] +=b\n",
    "        for k in range(16):\n",
    "            grad_weights[1][j][k] +=b*a_layers[1][k]\n",
    "                \n",
    "    for k in range(16):\n",
    "        for j in range(16):\n",
    "            grad_a1[k] += 2 * grad_a2[j] * derivativeSigmoid(z_layers[1][j]) * weights[1][j][k]\n",
    "            \n",
    "            \n",
    "    ########layer 1\n",
    "    for j in range(16):\n",
    "        b = grad_a1[j] * derivativeSigmoid(z_layers[0][j])\n",
    "        grad_biases[0][j] +=b\n",
    "        for k in range(784):\n",
    "            grad_weights[0][j][k] +=b*a_layers[0][k]\n",
    "            \n",
    "\n",
    "    return grad_weights,grad_biases ,loss_i  "
   ]
  },
  {
   "cell_type": "markdown",
   "id": "3a9091b2",
   "metadata": {},
   "source": [
    "# nueral network train and predict functions"
   ]
  },
  {
   "cell_type": "code",
   "execution_count": 26,
   "id": "f69c384a",
   "metadata": {},
   "outputs": [],
   "source": [
    "def train_model(learning_rate, number_of_epochs, batch_size, number_of_samples,weights,biases):\n",
    "#     cost_by_epochs = np.zeros((10 ,number_of_epochs))\n",
    "    cost_each_epoch = list()\n",
    "    for i in range(number_of_epochs):\n",
    "        \n",
    "        if(i%10==0):\n",
    "            print(\"EPOCH {}\".format(i+1))\n",
    "            \n",
    "            \n",
    "        samples = train_set\n",
    "        np.random.shuffle(samples)\n",
    "        batches = [samples[x:x+batch_size] for x in range(0, number_of_samples, batch_size)]\n",
    "        cost = np.zeros((10,1))\n",
    "        for batch in batches:\n",
    "            grad_weights,grad_biases = allocate_gradient_values(units_of_layers)\n",
    "            for image in batch:\n",
    "                    grad_weights,grad_biases,loss_i = backpropagation(image,weights,biases,(grad_weights,grad_biases))\n",
    "                    cost+=loss_i\n",
    "            weights[0] -= learning_rate * (grad_weights[0] / batch_size)\n",
    "            weights[1] -= learning_rate * (grad_weights[1] / batch_size)\n",
    "            weights[2] -= learning_rate * (grad_weights[2] / batch_size)\n",
    "\n",
    "            biases[0] -= learning_rate * (grad_biases[0] / batch_size)\n",
    "            biases[1] -= learning_rate * (grad_biases[1] / batch_size)\n",
    "            biases[2] -= learning_rate * (grad_biases[2] / batch_size)\n",
    "        cost_each_epoch.append(cost)\n",
    "    \n",
    "    cost_each_epoch = np.array(cost_each_epoch)/number_of_samples\n",
    "    return weights,biases,cost_each_epoch\n",
    "                "
   ]
  },
  {
   "cell_type": "code",
   "execution_count": 20,
   "id": "73e30f4d",
   "metadata": {},
   "outputs": [],
   "source": [
    "def evaluating_model (weights,biases,size=100):\n",
    "    \n",
    "    np.random.shuffle(test_set)\n",
    "    images = test_set\n",
    "    \n",
    "    correct = 0.0\n",
    "    error =0\n",
    "\n",
    "    for i in range(size):\n",
    "        img = images[i]\n",
    "        \n",
    "        image , label = img[0] , img[1]\n",
    "        \n",
    "        output,_ = forward_propagation(image, weights, biases)\n",
    "        output = output[-1]\n",
    "        output = np.array(output)\n",
    "        \n",
    "        max_index = 0\n",
    "        true_label = 0\n",
    "        maximum = -1\n",
    "        \n",
    "        for j in range(10):\n",
    "            if output[j] > maximum:\n",
    "                maximum = output[j]\n",
    "                max_index = j\n",
    "            if label[j] == 1:\n",
    "                true_label = j\n",
    "        \n",
    "        if max_index == true_label:\n",
    "            correct += 1  \n",
    "        else:\n",
    "            error += 1\n",
    "    \n",
    "    print(\"model accuracy = \",(correct/size))\n",
    "    "
   ]
  },
  {
   "cell_type": "code",
   "execution_count": 21,
   "id": "05d21f16",
   "metadata": {},
   "outputs": [],
   "source": [
    "def show_cost_funtion (cost_each_epoch):\n",
    "    plt.plot([np.linalg.norm(x)**2 for x in cost_each_epoch])\n",
    "    plt.show"
   ]
  },
  {
   "cell_type": "markdown",
   "id": "9fa6bba9",
   "metadata": {},
   "source": [
    "## define number of unit for each layer"
   ]
  },
  {
   "cell_type": "code",
   "execution_count": 22,
   "id": "324827d3",
   "metadata": {},
   "outputs": [],
   "source": [
    "units_of_layers = [784,16,16,10]"
   ]
  },
  {
   "cell_type": "markdown",
   "id": "8895f2e5",
   "metadata": {},
   "source": [
    "## fit model "
   ]
  },
  {
   "cell_type": "code",
   "execution_count": 27,
   "id": "f0566059",
   "metadata": {},
   "outputs": [],
   "source": [
    "def model(learning_rate, number_of_epochs, batch_size, number_of_samples):\n",
    "    weights,biases = make_sequential_network(units_of_layers)\n",
    "    weights,biases,cost_each_epoch = train_model(learning_rate, number_of_epochs, \n",
    "                                                 batch_size, number_of_samples,weights,biases)\n",
    "    evaluating_model(weights,biases)\n",
    "    show_cost_funtion(cost_each_epoch)"
   ]
  },
  {
   "cell_type": "markdown",
   "id": "4649d869",
   "metadata": {},
   "source": [
    "### learning rate = 1"
   ]
  },
  {
   "cell_type": "code",
   "execution_count": 28,
   "id": "e3a5b82b",
   "metadata": {},
   "outputs": [
    {
     "name": "stdout",
     "output_type": "stream",
     "text": [
      "EPOCH 1\n",
      "EPOCH 11\n",
      "EPOCH 21\n",
      "EPOCH 31\n",
      "EPOCH 41\n",
      "EPOCH 51\n",
      "EPOCH 61\n",
      "EPOCH 71\n",
      "EPOCH 81\n",
      "EPOCH 91\n",
      "EPOCH 101\n",
      "EPOCH 111\n",
      "EPOCH 121\n",
      "EPOCH 131\n",
      "EPOCH 141\n",
      "EPOCH 151\n",
      "EPOCH 161\n",
      "EPOCH 171\n",
      "EPOCH 181\n",
      "EPOCH 191\n",
      "model accuracy =  0.9\n"
     ]
    },
    {
     "data": {
      "image/png": "[encoded data removed]",
      "text/plain": [
       "<Figure size 432x288 with 1 Axes>"
      ]
     },
     "metadata": {
      "needs_background": "light"
     },
     "output_type": "display_data"
    }
   ],
   "source": [
    "model(1,200,10,100)"
   ]
  },
  {
   "cell_type": "markdown",
   "id": "01bac389",
   "metadata": {},
   "source": [
    "#### learning rate is too large"
   ]
  },
  {
   "cell_type": "markdown",
   "id": "e69fb985",
   "metadata": {},
   "source": [
    "### learning rate = 0.5"
   ]
  },
  {
   "cell_type": "code",
   "execution_count": 29,
   "id": "0eef6bb5",
   "metadata": {},
   "outputs": [
    {
     "name": "stdout",
     "output_type": "stream",
     "text": [
      "EPOCH 1\n",
      "EPOCH 11\n",
      "EPOCH 21\n",
      "EPOCH 31\n",
      "EPOCH 41\n",
      "EPOCH 51\n",
      "EPOCH 61\n",
      "EPOCH 71\n",
      "EPOCH 81\n",
      "EPOCH 91\n",
      "EPOCH 101\n",
      "EPOCH 111\n",
      "EPOCH 121\n",
      "EPOCH 131\n",
      "EPOCH 141\n",
      "EPOCH 151\n",
      "EPOCH 161\n",
      "EPOCH 171\n",
      "EPOCH 181\n",
      "EPOCH 191\n",
      "model accuracy =  0.91\n"
     ]
    },
    {
     "data": {
      "image/png": "[encoded data removed]",
      "text/plain": [
       "<Figure size 432x288 with 1 Axes>"
      ]
     },
     "metadata": {
      "needs_background": "light"
     },
     "output_type": "display_data"
    }
   ],
   "source": [
    "model(0.5,200,10,100)"
   ]
  },
  {
   "cell_type": "code",
   "execution_count": 32,
   "id": "7870497b",
   "metadata": {},
   "outputs": [
    {
     "name": "stdout",
     "output_type": "stream",
     "text": [
      "EPOCH 1\n",
      "EPOCH 11\n",
      "EPOCH 21\n",
      "EPOCH 31\n",
      "EPOCH 41\n",
      "EPOCH 51\n",
      "EPOCH 61\n",
      "EPOCH 71\n",
      "EPOCH 81\n",
      "EPOCH 91\n",
      "EPOCH 101\n",
      "EPOCH 111\n",
      "EPOCH 121\n",
      "EPOCH 131\n",
      "EPOCH 141\n",
      "EPOCH 151\n",
      "EPOCH 161\n",
      "EPOCH 171\n",
      "EPOCH 181\n",
      "EPOCH 191\n",
      "model accuracy =  0.62\n"
     ]
    },
    {
     "data": {
      "image/png": "[encoded data removed]",
      "text/plain": [
       "<Figure size 432x288 with 1 Axes>"
      ]
     },
     "metadata": {
      "needs_background": "light"
     },
     "output_type": "display_data"
    }
   ],
   "source": [
    "model(0.1,200,10,100)"
   ]
  },
  {
   "cell_type": "markdown",
   "id": "f46e8236",
   "metadata": {},
   "source": [
    "#### learning rate is too small"
   ]
  },
  {
   "cell_type": "code",
   "execution_count": null,
   "id": "0bf29a51",
   "metadata": {},
   "outputs": [
    {
     "name": "stdout",
     "output_type": "stream",
     "text": [
      "EPOCH 1\n",
      "EPOCH 11\n",
      "EPOCH 21\n",
      "EPOCH 31\n",
      "EPOCH 41\n",
      "EPOCH 51\n",
      "EPOCH 61\n",
      "EPOCH 71\n",
      "EPOCH 81\n",
      "EPOCH 91\n",
      "EPOCH 101\n",
      "EPOCH 111\n",
      "EPOCH 121\n",
      "EPOCH 131\n",
      "EPOCH 141\n",
      "EPOCH 151\n",
      "EPOCH 161\n",
      "EPOCH 171\n",
      "EPOCH 181\n",
      "EPOCH 191\n",
      "model accuracy =  0.83\n"
     ]
    }
   ],
   "source": [
    "model(0.3,200,10,100)"
   ]
  }
 ],
 "metadata": {
  "kernelspec": {
   "display_name": "Python 3 (ipykernel)",
   "language": "python",
   "name": "python3"
  },
  "language_info": {
   "codemirror_mode": {
    "name": "ipython",
    "version": 3
   },
   "file_extension": ".py",
   "mimetype": "text/x-python",
   "name": "python",
   "nbconvert_exporter": "python",
   "pygments_lexer": "ipython3",
   "version": "3.9.12"
  }
 },
 "nbformat": 4,
 "nbformat_minor": 5
}
