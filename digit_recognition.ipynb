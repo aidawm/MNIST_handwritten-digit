{
 "cells": [
  {
   "cell_type": "markdown",
   "id": "f35bec3d",
   "metadata": {},
   "source": [
    "# import libraries"
   ]
  },
  {
   "cell_type": "code",
   "execution_count": 3,
   "id": "e37811fe",
   "metadata": {},
   "outputs": [],
   "source": [
    "import numpy as np\n",
    "import matplotlib.pyplot as plt\n",
    "import sys"
   ]
  },
  {
   "cell_type": "markdown",
   "id": "526d8969",
   "metadata": {},
   "source": [
    "# read data sets"
   ]
  },
  {
   "cell_type": "code",
   "execution_count": 4,
   "id": "e84feb7d",
   "metadata": {},
   "outputs": [],
   "source": [
    "directory = './MNIST_Dataset/'"
   ]
  },
  {
   "cell_type": "markdown",
   "id": "0bf4f328",
   "metadata": {},
   "source": [
    "\n",
    "## Train set"
   ]
  },
  {
   "cell_type": "code",
   "execution_count": 5,
   "id": "26cca86c",
   "metadata": {},
   "outputs": [],
   "source": [
    "train_images_file = open(directory+'train-images.idx3-ubyte', 'rb')\n",
    "train_images_file.seek(4)\n",
    "num_of_train_images = int.from_bytes(train_images_file.read(4), 'big')\n",
    "train_images_file.seek(16)\n",
    "\n",
    "train_labels_file = open(directory+'train-labels.idx1-ubyte', 'rb')\n",
    "train_labels_file.seek(8)\n",
    "\n",
    "train_set = []\n",
    "for n in range(num_of_train_images):\n",
    "    image = np.zeros((784, 1))\n",
    "    for i in range(784):\n",
    "        image[i, 0] = int.from_bytes(train_images_file.read(1), 'big') / 256\n",
    "    \n",
    "    label_value = int.from_bytes(train_labels_file.read(1), 'big')\n",
    "    label = np.zeros((10, 1))\n",
    "    label[label_value, 0] = 1\n",
    "    \n",
    "    train_set.append((image, label))"
   ]
  },
  {
   "cell_type": "markdown",
   "id": "4a0c56cd",
   "metadata": {},
   "source": [
    "## Test set"
   ]
  },
  {
   "cell_type": "code",
   "execution_count": 6,
   "id": "10632287",
   "metadata": {},
   "outputs": [],
   "source": [
    "# Reading The Test Set\n",
    "test_images_file = open(directory+'t10k-images.idx3-ubyte', 'rb')\n",
    "test_images_file.seek(4)\n",
    "\n",
    "test_labels_file = open(directory+'t10k-labels.idx1-ubyte', 'rb')\n",
    "test_labels_file.seek(8)\n",
    "\n",
    "num_of_test_images = int.from_bytes(test_images_file.read(4), 'big')\n",
    "test_images_file.seek(16)\n",
    "\n",
    "test_set = []\n",
    "for n in range(num_of_test_images):\n",
    "    image = np.zeros((784, 1))\n",
    "    for i in range(784):\n",
    "        image[i] = int.from_bytes(test_images_file.read(1), 'big') / 256\n",
    "    \n",
    "    label_value = int.from_bytes(test_labels_file.read(1), 'big')\n",
    "    label = np.zeros((10, 1))\n",
    "    label[label_value, 0] = 1\n",
    "    \n",
    "    test_set.append((image, label))"
   ]
  },
  {
   "cell_type": "markdown",
   "id": "77c7a33f",
   "metadata": {},
   "source": [
    "## Plot a sample "
   ]
  },
  {
   "cell_type": "code",
   "execution_count": 7,
   "id": "7532fd8d",
   "metadata": {},
   "outputs": [],
   "source": [
    "def show_image(img):\n",
    "    image = img.reshape((28, 28))\n",
    "    plt.imshow(image, 'gray')"
   ]
  },
  {
   "cell_type": "code",
   "execution_count": 8,
   "id": "3ea5d3e8",
   "metadata": {
    "scrolled": true
   },
   "outputs": [
    {
     "data": {
      "image/png": "[encoded data removed]",
      "text/plain": [
       "<Figure size 432x288 with 1 Axes>"
      ]
     },
     "metadata": {
      "needs_background": "light"
     },
     "output_type": "display_data"
    },
    {
     "name": "stdout",
     "output_type": "stream",
     "text": [
      "lable =  [[0.]\n",
      " [0.]\n",
      " [0.]\n",
      " [0.]\n",
      " [0.]\n",
      " [1.]\n",
      " [0.]\n",
      " [0.]\n",
      " [0.]\n",
      " [0.]]\n"
     ]
    }
   ],
   "source": [
    "show_image(train_set[0][0])\n",
    "plt.show()\n",
    "print(\"lable = \",train_set[0][1])\n"
   ]
  },
  {
   "cell_type": "markdown",
   "id": "d26f3fca",
   "metadata": {},
   "source": [
    "# basic functions"
   ]
  },
  {
   "cell_type": "code",
   "execution_count": 9,
   "id": "9ed98f07",
   "metadata": {},
   "outputs": [],
   "source": [
    "def sigmoid(z):\n",
    "    return 1 / (1 + np.exp(-z))"
   ]
  },
  {
   "cell_type": "code",
   "execution_count": 10,
   "id": "4a320578",
   "metadata": {},
   "outputs": [],
   "source": [
    "def derivativeSigmoid(z):\n",
    "    return  sigmoid(z) * (1 - sigmoid(z))"
   ]
  },
  {
   "cell_type": "code",
   "execution_count": 11,
   "id": "67331579",
   "metadata": {},
   "outputs": [],
   "source": [
    "def make_sequential_network (layers):\n",
    "    weights = list()\n",
    "    biases = list()\n",
    "    for i in range(len(layers)-1):\n",
    "        weights.append(np.random.normal(0, .5, size=(layers[i+1], layers[i])))\n",
    "        biases.append(np.random.normal(0, .5, size=(layers[i+1],1)))\n",
    "    return weights,biases"
   ]
  },
  {
   "cell_type": "code",
   "execution_count": 12,
   "id": "61532475",
   "metadata": {},
   "outputs": [],
   "source": [
    "def allocate_gradient_values (layers):\n",
    "    g_weights = list()\n",
    "    g_biases = list()\n",
    "    for i in range(len(layers)-1):\n",
    "        g_weights.append(np.zeros((layers[i+1], layers[i])))\n",
    "        g_biases.append(np.zeros((layers[i+1],1)))\n",
    "    return g_weights,g_biases\n",
    "    "
   ]
  },
  {
   "cell_type": "code",
   "execution_count": 13,
   "id": "dd14c735",
   "metadata": {},
   "outputs": [],
   "source": [
    "def forward_propagation(flatten_input , current_weights,current_biases):\n",
    "    network_output_layers = list()\n",
    "    network_output_layers.append(flatten_input)\n",
    "    z_layers= list()\n",
    "    for (w,b) in zip(current_weights,current_biases):\n",
    "        z = np.dot(w,network_output_layers[-1])+b\n",
    "        z_layers.append(z)\n",
    "        network_output_layers.append(sigmoid(z))\n",
    "    return network_output_layers , z_layers"
   ]
  },
  {
   "cell_type": "code",
   "execution_count": 20,
   "id": "2a41f87e",
   "metadata": {},
   "outputs": [],
   "source": [
    "def backpropagation (image,weights,biases,gradients):\n",
    "    \n",
    "    grad_weights , grad_biases = gradients\n",
    "    \n",
    "    grad_a0 = np.zeros((784, 1))\n",
    "    grad_a1 = np.zeros((16, 1))\n",
    "    grad_a2 = np.zeros((16, 1))\n",
    "    \n",
    "    image_pixels , image_lable = image[0] , image[1]\n",
    "    \n",
    "    a_layers , z_layers = forward_propagation(image_pixels, weights, biases)\n",
    "    \n",
    "    loss_i = pow((a_layers[3]-image_lable),2)\n",
    "\n",
    "                \n",
    "    #### layer 3\n",
    "    for j in range(10):\n",
    "        b = 2 * (a_layers[3][j] - image_lable[j]) * derivativeSigmoid(z_layers[2][j])\n",
    "        grad_biases[2][j] +=b\n",
    "        for k in range(16):\n",
    "            grad_weights[2][j][k] +=b*a_layers[2][k]\n",
    "                \n",
    "    for k in range(16):\n",
    "        for j in range(10):\n",
    "            grad_a2[k] += 2 *(a_layers[3][j]-image_lable[j]) * derivativeSigmoid(z_layers[2][j]) *weights[2][j][k]\n",
    "            \n",
    "\n",
    "    ########layer 2\n",
    "    for j in range(16):\n",
    "        b = grad_a2[j] * derivativeSigmoid(z_layers[1][j])\n",
    "        grad_biases[1][j] +=b\n",
    "        for k in range(16):\n",
    "            grad_weights[1][j][k] +=b*a_layers[1][k]\n",
    "                \n",
    "    for k in range(16):\n",
    "        for j in range(16):\n",
    "            grad_a1[k] += 2 * grad_a2[j] * derivativeSigmoid(z_layers[1][j]) * weights[1][j][k]\n",
    "            \n",
    "            \n",
    "    ########layer 1\n",
    "    for j in range(16):\n",
    "        b = grad_a1[j] * derivativeSigmoid(z_layers[0][j])\n",
    "        grad_biases[0][j] +=b\n",
    "        for k in range(784):\n",
    "            grad_weights[0][j][k] +=b*a_layers[0][k]\n",
    "            \n",
    "\n",
    "    return grad_weights,grad_biases ,loss_i  "
   ]
  },
  {
   "cell_type": "markdown",
   "id": "3a9091b2",
   "metadata": {},
   "source": [
    "# make nueral network"
   ]
  },
  {
   "cell_type": "code",
   "execution_count": 21,
   "id": "e41dc78d",
   "metadata": {},
   "outputs": [],
   "source": [
    "units_of_layers = [784,16,16,10]\n",
    "weights,biases = make_sequential_network(units_of_layers)"
   ]
  },
  {
   "cell_type": "code",
   "execution_count": 47,
   "id": "f69c384a",
   "metadata": {},
   "outputs": [],
   "source": [
    "def train_model(learning_rate, number_of_epochs, batch_size, number_of_samples):\n",
    "#     cost_by_epochs = np.zeros((10 ,number_of_epochs))\n",
    "    cost_each_epoch = list()\n",
    "    for i in range(number_of_epochs):\n",
    "        \n",
    "        print(\"EPOCH {}\".format(i))\n",
    "        samples = train_set\n",
    "        np.random.shuffle(samples)\n",
    "        batches = [samples[x:x+batch_size] for x in range(0, number_of_samples, batch_size)]\n",
    "        cost = np.zeros((10,1))\n",
    "        for batch in batches:\n",
    "            grad_weights,grad_biases = allocate_gradient_values(units_of_layers)\n",
    "            for image in batch:\n",
    "                    grad_weights,grad_biases,loss_i = backpropagation(image,weights,biases,(grad_weights,grad_biases))\n",
    "                    cost+=loss_i\n",
    "            weights[0] -= learning_rate * (grad_weights[0] / batch_size)\n",
    "            weights[1] -= learning_rate * (grad_weights[1] / batch_size)\n",
    "            weights[2] -= learning_rate * (grad_weights[2] / batch_size)\n",
    "\n",
    "            biases[0] -= learning_rate * (grad_biases[0] / batch_size)\n",
    "            biases[1] -= learning_rate * (grad_biases[1] / batch_size)\n",
    "            biases[2] -= learning_rate * (grad_biases[2] / batch_size)\n",
    "        cost_each_epoch.append(cost)\n",
    "    \n",
    "    cost_each_epoch = np.array(cost_each_epoch)/number_of_samples\n",
    "    return weights,biases,cost_each_epoch\n",
    "                "
   ]
  },
  {
   "cell_type": "code",
   "execution_count": 48,
   "id": "e1bcb88a",
   "metadata": {},
   "outputs": [
    {
     "name": "stdout",
     "output_type": "stream",
     "text": [
      "EPOCH 0\n",
      "EPOCH 1\n",
      "EPOCH 2\n",
      "EPOCH 3\n",
      "EPOCH 4\n",
      "EPOCH 5\n",
      "EPOCH 6\n",
      "EPOCH 7\n",
      "EPOCH 8\n",
      "EPOCH 9\n",
      "EPOCH 10\n",
      "EPOCH 11\n",
      "EPOCH 12\n",
      "EPOCH 13\n",
      "EPOCH 14\n",
      "EPOCH 15\n",
      "EPOCH 16\n",
      "EPOCH 17\n",
      "EPOCH 18\n",
      "EPOCH 19\n",
      "EPOCH 20\n",
      "EPOCH 21\n",
      "EPOCH 22\n",
      "EPOCH 23\n",
      "EPOCH 24\n",
      "EPOCH 25\n",
      "EPOCH 26\n",
      "EPOCH 27\n",
      "EPOCH 28\n",
      "EPOCH 29\n",
      "EPOCH 30\n",
      "EPOCH 31\n",
      "EPOCH 32\n",
      "EPOCH 33\n",
      "EPOCH 34\n",
      "EPOCH 35\n",
      "EPOCH 36\n",
      "EPOCH 37\n",
      "EPOCH 38\n",
      "EPOCH 39\n",
      "EPOCH 40\n",
      "EPOCH 41\n",
      "EPOCH 42\n",
      "EPOCH 43\n",
      "EPOCH 44\n",
      "EPOCH 45\n",
      "EPOCH 46\n",
      "EPOCH 47\n",
      "EPOCH 48\n",
      "EPOCH 49\n",
      "EPOCH 50\n",
      "EPOCH 51\n",
      "EPOCH 52\n",
      "EPOCH 53\n",
      "EPOCH 54\n",
      "EPOCH 55\n",
      "EPOCH 56\n",
      "EPOCH 57\n",
      "EPOCH 58\n",
      "EPOCH 59\n",
      "EPOCH 60\n",
      "EPOCH 61\n",
      "EPOCH 62\n",
      "EPOCH 63\n",
      "EPOCH 64\n",
      "EPOCH 65\n",
      "EPOCH 66\n",
      "EPOCH 67\n",
      "EPOCH 68\n",
      "EPOCH 69\n",
      "EPOCH 70\n",
      "EPOCH 71\n",
      "EPOCH 72\n",
      "EPOCH 73\n",
      "EPOCH 74\n",
      "EPOCH 75\n",
      "EPOCH 76\n",
      "EPOCH 77\n",
      "EPOCH 78\n",
      "EPOCH 79\n",
      "EPOCH 80\n",
      "EPOCH 81\n",
      "EPOCH 82\n",
      "EPOCH 83\n",
      "EPOCH 84\n",
      "EPOCH 85\n",
      "EPOCH 86\n",
      "EPOCH 87\n",
      "EPOCH 88\n",
      "EPOCH 89\n",
      "EPOCH 90\n",
      "EPOCH 91\n",
      "EPOCH 92\n",
      "EPOCH 93\n",
      "EPOCH 94\n",
      "EPOCH 95\n",
      "EPOCH 96\n",
      "EPOCH 97\n",
      "EPOCH 98\n",
      "EPOCH 99\n",
      "EPOCH 100\n",
      "EPOCH 101\n",
      "EPOCH 102\n",
      "EPOCH 103\n",
      "EPOCH 104\n",
      "EPOCH 105\n",
      "EPOCH 106\n",
      "EPOCH 107\n",
      "EPOCH 108\n",
      "EPOCH 109\n",
      "EPOCH 110\n",
      "EPOCH 111\n",
      "EPOCH 112\n",
      "EPOCH 113\n",
      "EPOCH 114\n",
      "EPOCH 115\n",
      "EPOCH 116\n",
      "EPOCH 117\n",
      "EPOCH 118\n",
      "EPOCH 119\n",
      "EPOCH 120\n",
      "EPOCH 121\n",
      "EPOCH 122\n",
      "EPOCH 123\n",
      "EPOCH 124\n",
      "EPOCH 125\n",
      "EPOCH 126\n",
      "EPOCH 127\n",
      "EPOCH 128\n",
      "EPOCH 129\n",
      "EPOCH 130\n",
      "EPOCH 131\n",
      "EPOCH 132\n",
      "EPOCH 133\n",
      "EPOCH 134\n",
      "EPOCH 135\n",
      "EPOCH 136\n",
      "EPOCH 137\n",
      "EPOCH 138\n",
      "EPOCH 139\n",
      "EPOCH 140\n",
      "EPOCH 141\n",
      "EPOCH 142\n",
      "EPOCH 143\n",
      "EPOCH 144\n",
      "EPOCH 145\n",
      "EPOCH 146\n",
      "EPOCH 147\n",
      "EPOCH 148\n",
      "EPOCH 149\n",
      "EPOCH 150\n",
      "EPOCH 151\n",
      "EPOCH 152\n",
      "EPOCH 153\n",
      "EPOCH 154\n",
      "EPOCH 155\n",
      "EPOCH 156\n",
      "EPOCH 157\n",
      "EPOCH 158\n",
      "EPOCH 159\n",
      "EPOCH 160\n",
      "EPOCH 161\n",
      "EPOCH 162\n",
      "EPOCH 163\n",
      "EPOCH 164\n",
      "EPOCH 165\n",
      "EPOCH 166\n",
      "EPOCH 167\n",
      "EPOCH 168\n",
      "EPOCH 169\n",
      "EPOCH 170\n",
      "EPOCH 171\n",
      "EPOCH 172\n",
      "EPOCH 173\n",
      "EPOCH 174\n",
      "EPOCH 175\n",
      "EPOCH 176\n",
      "EPOCH 177\n",
      "EPOCH 178\n",
      "EPOCH 179\n",
      "EPOCH 180\n",
      "EPOCH 181\n",
      "EPOCH 182\n",
      "EPOCH 183\n",
      "EPOCH 184\n",
      "EPOCH 185\n",
      "EPOCH 186\n",
      "EPOCH 187\n",
      "EPOCH 188\n",
      "EPOCH 189\n",
      "EPOCH 190\n",
      "EPOCH 191\n",
      "EPOCH 192\n",
      "EPOCH 193\n",
      "EPOCH 194\n",
      "EPOCH 195\n",
      "EPOCH 196\n",
      "EPOCH 197\n",
      "EPOCH 198\n",
      "EPOCH 199\n"
     ]
    }
   ],
   "source": [
    "weights,biases,cost_each_epoch = train_model(1, 200, 10,100)"
   ]
  },
  {
   "cell_type": "code",
   "execution_count": 53,
   "id": "73e30f4d",
   "metadata": {},
   "outputs": [],
   "source": [
    "def evaluating_model (weights,biases,size=100):\n",
    "    \n",
    "    np.random.shuffle(test_set)\n",
    "    images = test_set\n",
    "    \n",
    "    correct = 0.0\n",
    "    error =0\n",
    "\n",
    "    for i in range(size):\n",
    "        img = images[i]\n",
    "        \n",
    "        image , label = img[0] , img[1]\n",
    "        \n",
    "        output,_ = forward_propagation(image, weights, biases)\n",
    "        output = output[-1]\n",
    "        output = np.array(output)\n",
    "        \n",
    "        max_index = 0\n",
    "        true_label = 0\n",
    "        maximum = -1\n",
    "        \n",
    "        for j in range(10):\n",
    "            if output[j] > maximum:\n",
    "                maximum = output[j]\n",
    "                max_index = j\n",
    "            if label[j] == 1:\n",
    "                true_label = j\n",
    "        \n",
    "        if max_index == true_label:\n",
    "            correct += 1  \n",
    "        else:\n",
    "            error += 1\n",
    "    \n",
    "    print(\"model accuracy = \",(correct/size))\n",
    "    "
   ]
  },
  {
   "cell_type": "code",
   "execution_count": 54,
   "id": "8fcc1324",
   "metadata": {},
   "outputs": [
    {
     "name": "stdout",
     "output_type": "stream",
     "text": [
      "model accuracy =  0.91\n"
     ]
    }
   ],
   "source": [
    "evaluating_model(weights,biases)"
   ]
  },
  {
   "cell_type": "code",
   "execution_count": null,
   "id": "c75136fd",
   "metadata": {},
   "outputs": [],
   "source": []
  }
 ],
 "metadata": {
  "kernelspec": {
   "display_name": "Python 3 (ipykernel)",
   "language": "python",
   "name": "python3"
  },
  "language_info": {
   "codemirror_mode": {
    "name": "ipython",
    "version": 3
   },
   "file_extension": ".py",
   "mimetype": "text/x-python",
   "name": "python",
   "nbconvert_exporter": "python",
   "pygments_lexer": "ipython3",
   "version": "3.9.12"
  }
 },
 "nbformat": 4,
 "nbformat_minor": 5
}
